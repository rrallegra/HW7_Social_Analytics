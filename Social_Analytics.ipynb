{
 "cells": [
  {
   "cell_type": "code",
   "execution_count": 27,
   "metadata": {},
   "outputs": [],
   "source": [
    "# Dependencies\n",
    "import tweepy\n",
    "import json\n",
    "import numpy as np\n",
    "import pandas as pd\n",
    "import matplotlib.pyplot as plt\n",
    "\n",
    "# Initialize Sentiment Analyzer\n",
    "from vaderSentiment.vaderSentiment import SentimentIntensityAnalyzer\n",
    "analyzer = SentimentIntensityAnalyzer()\n",
    "\n",
    "# Twitter API Keys\n",
    "consumer_key = \"Ed4RNulN1lp7AbOooHa9STCoU\"\n",
    "consumer_secret = \"P7cUJlmJZq0VaCY0Jg7COliwQqzK0qYEyUF9Y0idx4ujb3ZlW5\"\n",
    "access_token = \"839621358724198402-dzdOsx2WWHrSuBwyNUiqSEnTivHozAZ\"\n",
    "access_token_secret = \"dCZ80uNRbFDjxdU2EckmNiSckdoATach6Q8zb7YYYE5ER\"\n",
    "\n",
    "# Setup Tweepy API Authentication\n",
    "auth = tweepy.OAuthHandler(consumer_key, consumer_secret)\n",
    "auth.set_access_token(access_token, access_token_secret)\n",
    "api = tweepy.API(auth, parser=tweepy.parsers.JSONParser())\n"
   ]
  },
  {
   "cell_type": "code",
   "execution_count": 33,
   "metadata": {},
   "outputs": [
    {
     "name": "stdout",
     "output_type": "stream",
     "text": [
      "    Handles\n",
      "0  BBCWorld\n",
      "1   CBSNews\n",
      "2       CNN\n",
      "3   FoxNews\n",
      "4   nytimes\n"
     ]
    }
   ],
   "source": [
    "# Top News Media Handles\n",
    "# Ref: Top 100 News Media Twitter Accounts: \n",
    "# https://memeburn.com/2010/09/the-100-most-influential-news-media-twitter-accounts/ \n",
    "\n",
    "handles = ['BBCWorld', 'CBSNews', 'CNN', 'FoxNews', 'nytimes']\n",
    "\n",
    "# create a new dataframe\n",
    "news_df = pd.DataFrame({'Handles': handles})\n",
    "print (news_df)\n"
   ]
  },
  {
   "cell_type": "code",
   "execution_count": 38,
   "metadata": {},
   "outputs": [
    {
     "name": "stdout",
     "output_type": "stream",
     "text": [
      "--------------------------------\n",
      "News Media Handle:  BBCWorld\n",
      "0.0158\n",
      "\n",
      "--------------------------------\n",
      "News Media Handle:  CBSNews\n",
      "-0.05086\n",
      "\n",
      "--------------------------------\n",
      "News Media Handle:  CNN\n",
      "-0.170375\n",
      "\n",
      "--------------------------------\n",
      "News Media Handle:  FoxNews\n",
      "-0.3206\n",
      "\n",
      "--------------------------------\n",
      "News Media Handle:  nytimes\n",
      "0.15024\n",
      "\n"
     ]
    }
   ],
   "source": [
    "# create a list of sentiments\n",
    "sentiment_list = []\n",
    "\n",
    "for target_user in handles: \n",
    "    \n",
    "    try:\n",
    "    \n",
    "        print(\"--------------------------------\")\n",
    "        print(\"News Media Handle: \", target_user)\n",
    "        \n",
    "        # List to hold compound sentiments for the target_user\n",
    "        compound_list = []\n",
    "        \n",
    "        # Select 5 tweets from specific handle           \n",
    "        public_tweets = api.search(target_user, count=5, result_type=\"recent\")\n",
    "        \n",
    "        # Loop through all tweets\n",
    "        for tweet in public_tweets[\"statuses\"]:\n",
    "\n",
    "            # Run Vader Analysis on each tweet\n",
    "            compound = analyzer.polarity_scores(tweet[\"text\"])[\"compound\"]\n",
    "\n",
    "            # Add each value to the appropriate array\n",
    "            compound_list.append(compound)\n",
    "    \n",
    "        # Compute the Average Compound Sentiment\n",
    "        # sentiment = {\"Compound\": np.mean(compound_list)}\n",
    "        sentiment = np.mean(compound_list)\n",
    "        \n",
    "        # Add sentiment to the sentiment list\n",
    "        sentiment_list.append(sentiment)\n",
    "        \n",
    "        # time = tweet[\"created at\"]\n",
    "        \n",
    "        # Print the Sentiments and time\n",
    "        print(sentiment)\n",
    "        print(\"\")\n",
    "        \n",
    "        # print(time)\n",
    "        # print(\"\")\n",
    "        \n",
    "        #news_df = pd.DataFrame.setvalue(\"Handle\", \"Time\", \"Sentiment\")                               \n",
    "        # Utilize JSON dumps to generate a pretty-printed json\n",
    "        # print(json.dumps(tweet, sort_keys=True, indent=4, separators=(',', ': ')))\n",
    "        \n",
    "    except:\n",
    "        continue\n",
    "        \n",
    "# View the DataFrame\n",
    "# news_df.head()\n",
    "        \n",
    "# Export to CSV\n",
    "# news_df.to_csv(\"PopularAcounts_New.csv\", index=False)"
   ]
  },
  {
   "cell_type": "code",
   "execution_count": 39,
   "metadata": {},
   "outputs": [
    {
     "name": "stdout",
     "output_type": "stream",
     "text": [
      "[0.015800000000000002, -0.050859999999999995, -0.170375, -0.3206, 0.15023999999999998]\n"
     ]
    }
   ],
   "source": [
    "print(sentiment_list)"
   ]
  },
  {
   "cell_type": "code",
   "execution_count": 37,
   "metadata": {},
   "outputs": [
    {
     "name": "stdout",
     "output_type": "stream",
     "text": [
      "['BBCWorld', 'CBSNews', 'CNN', 'FoxNews', 'nytimes']\n"
     ]
    }
   ],
   "source": [
    "print(handles)"
   ]
  },
  {
   "cell_type": "code",
   "execution_count": null,
   "metadata": {
    "collapsed": true
   },
   "outputs": [],
   "source": [
    "\n",
    "# place results into dataframe (7.1/6 [or 7.1/12])\n",
    "\n",
    "# PLOT #1 - plot each sentitment analysis based on time of tweet (7.1/6)\n",
    "# save to image\n",
    "\n",
    "# PLOT #2 - bar graph showing aggregate of sentiment analysis for all tweets from each handle\n",
    "# save to image"
   ]
  }
 ],
 "metadata": {
  "kernelspec": {
   "display_name": "Python 3",
   "language": "python",
   "name": "python3"
  },
  "language_info": {
   "codemirror_mode": {
    "name": "ipython",
    "version": 3
   },
   "file_extension": ".py",
   "mimetype": "text/x-python",
   "name": "python",
   "nbconvert_exporter": "python",
   "pygments_lexer": "ipython3",
   "version": "3.6.3"
  }
 },
 "nbformat": 4,
 "nbformat_minor": 2
}
