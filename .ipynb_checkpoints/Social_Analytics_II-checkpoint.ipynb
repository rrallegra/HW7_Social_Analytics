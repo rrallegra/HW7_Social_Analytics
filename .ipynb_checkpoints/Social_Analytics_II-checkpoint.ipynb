{
 "cells": [
  {
   "cell_type": "code",
   "execution_count": 16,
   "metadata": {
    "collapsed": true
   },
   "outputs": [],
   "source": [
    "# Dependencies\n",
    "import tweepy\n",
    "import json\n",
    "import numpy as np\n",
    "import pandas as pd\n",
    "import matplotlib.pyplot as plt\n",
    "import time\n",
    "\n",
    "\n",
    "# Initialize Sentiment Analyzer\n",
    "from vaderSentiment.vaderSentiment import SentimentIntensityAnalyzer\n",
    "analyzer = SentimentIntensityAnalyzer()\n",
    "\n",
    "# Twitter API Keys\n",
    "consumer_key = \"Ed4RNulN1lp7AbOooHa9STCoU\"\n",
    "consumer_secret = \"P7cUJlmJZq0VaCY0Jg7COliwQqzK0qYEyUF9Y0idx4ujb3ZlW5\"\n",
    "access_token = \"839621358724198402-dzdOsx2WWHrSuBwyNUiqSEnTivHozAZ\"\n",
    "access_token_secret = \"dCZ80uNRbFDjxdU2EckmNiSckdoATach6Q8zb7YYYE5ER\"\n",
    "\n",
    "# Setup Tweepy API Authentication\n",
    "auth = tweepy.OAuthHandler(consumer_key, consumer_secret)\n",
    "auth.set_access_token(access_token, access_token_secret)\n",
    "api = tweepy.API(auth, parser=tweepy.parsers.JSONParser())\n"
   ]
  },
  {
   "cell_type": "code",
   "execution_count": 17,
   "metadata": {
    "collapsed": true
   },
   "outputs": [],
   "source": [
    "# Ref: Twitter.com or \"Top 100 News Media Twitter Accounts:\" \n",
    "# https://memeburn.com/2010/09/the-100-most-influential-news-media-twitter-accounts/\n"
   ]
  },
  {
   "cell_type": "code",
   "execution_count": 18,
   "metadata": {},
   "outputs": [
    {
     "name": "stdout",
     "output_type": "stream",
     "text": [
      "--------------------------------\n",
      "News Media Handle:  BBCWorld\n",
      "-9.156499999999996   BBCWorld\n",
      "--------------------------------\n",
      "News Media Handle:  CBSNews\n",
      "-23.169000000000004   CBSNews\n",
      "--------------------------------\n",
      "News Media Handle:  CNN\n",
      "-9.725   CNN\n",
      "--------------------------------\n",
      "News Media Handle:  FoxNews\n",
      "-14.597999999999995   FoxNews\n",
      "--------------------------------\n",
      "News Media Handle:  nytimes\n",
      "-10.731000000000002   nytimes\n"
     ]
    },
    {
     "data": {
      "image/png": "[encoded data removed]",
      "text/plain": [
       "<matplotlib.figure.Figure at 0x22c5957d6a0>"
      ]
     },
     "metadata": {},
     "output_type": "display_data"
    }
   ],
   "source": [
    "# Top News Media Handles\n",
    "handles = ['BBCWorld', 'CBSNews', 'CNN', 'FoxNews', 'nytimes']\n",
    "\n",
    "# create a new dataframe for handles\n",
    "news_df = pd.DataFrame({'Handles': handles})\n",
    "\n",
    "# create a list of sentiments\n",
    "sentiment_list = []\n",
    "\n",
    "for target_user in handles: \n",
    "    \n",
    "    try:\n",
    "    \n",
    "        print(\"--------------------------------\")\n",
    "        print(\"News Media Handle: \", target_user)\n",
    "        \n",
    "        # Counter\n",
    "        counter = 1\n",
    "\n",
    "        # Variables for holding sentiments\n",
    "        sentiments = []\n",
    "        compound_list = []\n",
    "        pos_list = []\n",
    "        neg_list = []\n",
    "        neu_list = []\n",
    "        \n",
    "        # compound_sum = 0\n",
    "\n",
    "        # Loop through 5 pages of tweets (total 100 tweets)\n",
    "        for x in range(5):\n",
    "\n",
    "              # Get all tweets \n",
    "              public_tweets = api.user_timeline(target_user)\n",
    "\n",
    "              # Loop through all tweets \n",
    "              for tweet in public_tweets:\n",
    "\n",
    "                  # Run Vader Analysis on each tweet\n",
    "                  compound = analyzer.polarity_scores(tweet[\"text\"])[\"compound\"]\n",
    "                  compound_list.append(compound)\n",
    "                  pos = analyzer.polarity_scores(tweet[\"text\"])[\"pos\"]\n",
    "                  pos_list.append(pos)\n",
    "                  neu = analyzer.polarity_scores(tweet[\"text\"])[\"neu\"]\n",
    "                  neu_list.append(neu)\n",
    "                  neg = analyzer.polarity_scores(tweet[\"text\"])[\"neg\"]\n",
    "                  neg_list.append(neg)\n",
    "\n",
    "                  tweets_ago = counter\n",
    "                \n",
    "                  # compound_sum = compound_sum + int(compound)\n",
    "\n",
    "                  # Add sentiments for each tweet into an array\n",
    "                  sentiments.append({\"Date\": tweet[\"created_at\"], \"Compound\": compound,\"Positive\": pos,\"Neutral\" : neu,\"Negative\": neg,\"Tweets Ago\": counter})\n",
    "                  \n",
    "                  # Add to counter \n",
    "                  counter = counter + 1\n",
    "                            \n",
    "        sentiments_pd = pd.DataFrame.from_dict(sentiments)\n",
    "        plt.scatter(np.arange(len(sentiments_pd[\"Compound\"])), sentiments_pd[\"Compound\"], marker=\"o\", linewidth=0.8, alpha=0.8)\n",
    "        total_compound = sentiments_pd[\"Compound\"].sum()\n",
    "        print(total_compound, \" \", target_user)\n",
    "        \n",
    "        sentiment_list.append(total_compound)\n",
    "        \n",
    "        # sentiment_list[target_user] = total_compound\n",
    "        # print(sentiment_list[target_user])\n",
    "        \n",
    "        # Add sentiment to the sentiment list\n",
    "        # sentiment_list.append(sentiment)\n",
    "        # time = tweet[\"created at\"]\n",
    "        \n",
    "        # Print the Sentiments and time\n",
    "        # print(sentiment)\n",
    "        # print(\"\")\n",
    "        \n",
    "        # print(time)\n",
    "        # print(\"\")\n",
    "        \n",
    "        # news_df = pd.DataFrame.setvalue(\"Handle\", \"Time\", \"Sentiment\")                               \n",
    "        # Utilize JSON dumps to generate a pretty-printed json\n",
    "        # print(json.dumps(tweet, sort_keys=True, indent=4, separators=(',', ': ')))\n",
    "        \n",
    "    except:\n",
    "        continue\n",
    "\n",
    "current_date = time.strftime(\"%m/%d/%Y\")\n",
    "\n",
    "plt.title(\"Sentiment Analysis of Media Tweets \" + \"(\" + current_date + \")\")\n",
    "plt.ylabel(\"Tweet Polarity\")\n",
    "plt.xlabel(\"Tweets Ago\")\n",
    "\n",
    "plt.savefig(\"MTweets_Scatter.png\")\n",
    "\n",
    "plt.show()\n",
    "        "
   ]
  },
  {
   "cell_type": "code",
   "execution_count": 19,
   "metadata": {},
   "outputs": [
    {
     "data": {
      "image/png": "[encoded data removed]",
      "text/plain": [
       "<matplotlib.figure.Figure at 0x22c5949dda0>"
      ]
     },
     "metadata": {},
     "output_type": "display_data"
    }
   ],
   "source": [
    "x_ticks = (\"BBC\",\"CBS\",\"CNN\",\"Fox\",\"NYT\")\n",
    "colors = (\"lightblue\",\"green\",\"red\",\"blue\",\"gold\")\n",
    "\n",
    "x_pos = [i for i, _ in enumerate(x_ticks)]\n",
    "\n",
    "plt.bar(x_pos, sentiment_list,  color=colors, align=\"center\", alpha=0.5)\n",
    "plt.xticks(x_pos, x_ticks)\n",
    "                   \n",
    "plt.title(\"Overall Media Sentiment Based on Twitter \" + \"(\" + current_date + \")\")\n",
    "plt.ylabel(\"Tweet Polarity\") \n",
    "\n",
    "plt.savefig(\"MTweets_Bars.png\")\n",
    "plt.show()"
   ]
  },
  {
   "cell_type": "code",
   "execution_count": null,
   "metadata": {
    "collapsed": true
   },
   "outputs": [],
   "source": []
  },
  {
   "cell_type": "code",
   "execution_count": null,
   "metadata": {
    "collapsed": true
   },
   "outputs": [],
   "source": []
  },
  {
   "cell_type": "code",
   "execution_count": null,
   "metadata": {
    "collapsed": true
   },
   "outputs": [],
   "source": []
  }
 ],
 "metadata": {
  "kernelspec": {
   "display_name": "Python 3",
   "language": "python",
   "name": "python3"
  },
  "language_info": {
   "codemirror_mode": {
    "name": "ipython",
    "version": 3
   },
   "file_extension": ".py",
   "mimetype": "text/x-python",
   "name": "python",
   "nbconvert_exporter": "python",
   "pygments_lexer": "ipython3",
   "version": "3.6.3"
  }
 },
 "nbformat": 4,
 "nbformat_minor": 2
}
